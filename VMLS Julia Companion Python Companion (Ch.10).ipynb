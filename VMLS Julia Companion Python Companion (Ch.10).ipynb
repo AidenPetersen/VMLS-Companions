{
 "cells": [
  {
   "cell_type": "code",
   "execution_count": 21,
   "metadata": {},
   "outputs": [],
   "source": [
    "D = {'death_rate': np.array([6.2300e-03, 4.4000e-04, 2.7000e-04, 2.0000e-04, 1.6000e-04,\n",
    "       1.2000e-04, 1.1000e-04, 1.1000e-04, 1.2000e-04, 1.1000e-04,\n",
    "       1.0000e-04, 1.3000e-04, 1.3000e-04, 1.5000e-04, 2.0000e-04,\n",
    "       2.5000e-04, 3.7000e-04, 4.7000e-04, 6.4000e-04, 7.1000e-04,\n",
    "       7.6000e-04, 8.7000e-04, 8.7000e-04, 8.8000e-04, 9.4000e-04,\n",
    "       9.2000e-04, 9.5000e-04, 9.3000e-04, 9.9000e-04, 1.0100e-03,\n",
    "       1.0300e-03, 1.0900e-03, 1.1000e-03, 1.1400e-03, 1.1500e-03,\n",
    "       1.2000e-03, 1.3100e-03, 1.3700e-03, 1.4600e-03, 1.5600e-03,\n",
    "       1.6200e-03, 1.8500e-03, 2.0100e-03, 2.1600e-03, 2.4300e-03,\n",
    "       2.5800e-03, 2.9800e-03, 3.2500e-03, 3.5100e-03, 3.8700e-03,\n",
    "       4.1300e-03, 4.5400e-03, 4.9400e-03, 5.3300e-03, 5.7100e-03,\n",
    "       6.0200e-03, 6.7000e-03, 7.1000e-03, 7.6900e-03, 8.2800e-03,\n",
    "       8.6000e-03, 9.3200e-03, 9.9800e-03, 1.1010e-02, 1.2500e-02,\n",
    "       1.2820e-02, 1.4040e-02, 1.5150e-02, 1.6870e-02, 1.8300e-02,\n",
    "       1.9670e-02, 2.1330e-02, 2.3470e-02, 2.5620e-02, 2.8000e-02,\n",
    "       3.0830e-02, 3.4410e-02, 3.7110e-02, 4.1260e-02, 4.4480e-02,\n",
    "       4.9640e-02, 5.5390e-02, 6.1490e-02, 6.8030e-02, 7.6730e-02,\n",
    "       8.5610e-02, 9.5400e-02, 1.0636e-01, 1.1802e-01, 1.3385e-01,\n",
    "       1.5250e-01, 1.6491e-01, 1.8738e-01, 2.0757e-01, 2.2688e-01,\n",
    "       2.5196e-01, 2.7422e-01, 2.9239e-01, 3.2560e-01, 3.4157e-01]), 'population': np.array([3.94415, 3.97807, 4.09693, 4.11904, 4.06317, 4.05686, 4.06638,\n",
    "       4.03058, 4.04649, 4.14835, 4.17254, 4.11442, 4.10624, 4.11801,\n",
    "       4.16598, 4.24282, 4.31614, 4.39529, 4.50085, 4.58523, 4.51913,\n",
    "       4.35429, 4.26464, 4.19857, 4.24936, 4.26235, 4.15231, 4.24887,\n",
    "       4.21525, 4.22308, 4.28567, 3.97022, 3.98685, 3.88015, 3.83922,\n",
    "       3.95643, 3.80209, 3.93445, 4.12188, 4.3648 , 4.38327, 4.11498,\n",
    "       4.0761 , 4.10511, 4.2115 , 4.50887, 4.51976, 4.53526, 4.5388 ,\n",
    "       4.6059 , 4.66029, 4.46463, 4.50085, 4.38035, 4.292  , 4.25471,\n",
    "       4.03751, 3.93639, 3.79493, 3.64127, 3.62113, 3.4926 , 3.56318,\n",
    "       3.48388, 2.65713, 2.68076, 2.63914, 2.64936, 2.32367, 2.14232,\n",
    "       2.04312, 1.94932, 1.86427, 1.73696, 1.68449, 1.62008, 1.47107,\n",
    "       1.45533, 1.40012, 1.37119, 1.30851, 1.21287, 1.16142, 1.07481,\n",
    "       0.98572, 0.91472, 0.81421, 0.71291, 0.64062, 0.538  , 0.43556,\n",
    "       0.34499, 0.28139, 0.21698, 0.16944, 0.12972, 0.09522, 0.06814,\n",
    "       0.0459 , 0.03227]), 'birth_rate': np.array([0.     , 0.     , 0.     , 0.     , 0.     , 0.     , 0.     ,\n",
    "       0.     , 0.     , 0.     , 0.0002 , 0.0002 , 0.0002 , 0.0002 ,\n",
    "       0.0002 , 0.0171 , 0.0171 , 0.0171 , 0.0171 , 0.0171 , 0.045  ,\n",
    "       0.045  , 0.045  , 0.045  , 0.045  , 0.05415, 0.05415, 0.05415,\n",
    "       0.05415, 0.05415, 0.04825, 0.04825, 0.04825, 0.04825, 0.04825,\n",
    "       0.0225 , 0.0225 , 0.0225 , 0.0225 , 0.0225 , 0.0051 , 0.0051 ,\n",
    "       0.0051 , 0.0051 , 0.0051 , 0.00035, 0.00035, 0.00035, 0.00035,\n",
    "       0.00035, 0.     , 0.     , 0.     , 0.     , 0.     , 0.     ,\n",
    "       0.     , 0.     , 0.     , 0.     , 0.     , 0.     , 0.     ,\n",
    "       0.     , 0.     , 0.     , 0.     , 0.     , 0.     , 0.     ,\n",
    "       0.     , 0.     , 0.     , 0.     , 0.     , 0.     , 0.     ,\n",
    "       0.     , 0.     , 0.     , 0.     , 0.     , 0.     , 0.     ,\n",
    "       0.     , 0.     , 0.     , 0.     , 0.     , 0.     , 0.     ,\n",
    "       0.     , 0.     , 0.     , 0.     , 0.     , 0.     , 0.     ,\n",
    "       0.     , 0.     ])}"
   ]
  },
  {
   "cell_type": "code",
   "execution_count": 15,
   "metadata": {},
   "outputs": [],
   "source": [
    "import numpy as np\n",
    "import numpy.linalg as npl\n",
    "import math\n",
    "import matplotlib.pyplot as plt\n",
    "from IPython.core.interactiveshell import InteractiveShell\n",
    "InteractiveShell.ast_node_interactivity = \"all\""
   ]
  },
  {
   "cell_type": "markdown",
   "metadata": {},
   "source": [
    "# 10.1 Matrix-Matrix Multiplication"
   ]
  },
  {
   "cell_type": "code",
   "execution_count": 2,
   "metadata": {},
   "outputs": [
    {
     "data": {
      "text/plain": [
       "array([[ 3.5, -4.5],\n",
       "       [-1. ,  1. ]])"
      ]
     },
     "execution_count": 2,
     "metadata": {},
     "output_type": "execute_result"
    }
   ],
   "source": [
    "A,B = np.array([[-1.5,3,2],[1,-1,0]]), np.array([[-1,-1],[0,-2],[1,0]])\n",
    "C = np.matmul(A,B) #J: A*B\n",
    "C"
   ]
  },
  {
   "cell_type": "code",
   "execution_count": 3,
   "metadata": {},
   "outputs": [],
   "source": [
    "A = np.random.randn(10,3)"
   ]
  },
  {
   "cell_type": "code",
   "execution_count": 4,
   "metadata": {},
   "outputs": [
    {
     "data": {
      "text/plain": [
       "(4.818726064300877, 4.818726064300876)"
      ]
     },
     "execution_count": 4,
     "metadata": {},
     "output_type": "execute_result"
    }
   ],
   "source": [
    "G = np.matmul(A.transpose(),A) #ATA; J: A'*A\n",
    "G[1,1], npl.norm(A[:,1])**2 #Gram matrix (ii) = norm of col i squared"
   ]
  },
  {
   "cell_type": "code",
   "execution_count": 5,
   "metadata": {},
   "outputs": [
    {
     "data": {
      "text/plain": [
       "(3.3848498620929526, 3.3848498620929526, 3.3848498620929526)"
      ]
     },
     "execution_count": 5,
     "metadata": {},
     "output_type": "execute_result"
    }
   ],
   "source": [
    "G[0,2], np.matmul(A[:,0].transpose(),A[:,2]), A[:,0] @ A[:,2] #(ij) = inner of i and j (inner and matmul + transpose are different see: https://docs.scipy.org/doc/numpy/reference/generated/numpy.matmul.html)"
   ]
  },
  {
   "cell_type": "code",
   "execution_count": 6,
   "metadata": {},
   "outputs": [],
   "source": [
    "m,n,o,p = 2000,50,2000,2000\n",
    "A,B,C = np.random.randn(m,n), np.random.randn(n,p), np.random.randn(p,o)"
   ]
  },
  {
   "cell_type": "markdown",
   "metadata": {},
   "source": [
    "timing"
   ]
  },
  {
   "cell_type": "code",
   "execution_count": 7,
   "metadata": {},
   "outputs": [],
   "source": [
    "LHS = np.matmul(np.matmul(A,B),C)\n",
    "RHS = np.matmul(A,np.matmul(B,C))"
   ]
  },
  {
   "cell_type": "code",
   "execution_count": 8,
   "metadata": {},
   "outputs": [
    {
     "name": "stdout",
     "output_type": "stream",
     "text": [
      "132 ms ± 19.6 ms per loop (mean ± std. dev. of 7 runs, 10 loops each)\n"
     ]
    }
   ],
   "source": [
    "%timeit np.matmul(np.matmul(A,B),C)"
   ]
  },
  {
   "cell_type": "code",
   "execution_count": 9,
   "metadata": {},
   "outputs": [
    {
     "name": "stdout",
     "output_type": "stream",
     "text": [
      "19.7 ms ± 1.15 ms per loop (mean ± std. dev. of 7 runs, 10 loops each)\n"
     ]
    }
   ],
   "source": [
    "%timeit np.matmul(A,np.matmul(B,C))"
   ]
  },
  {
   "cell_type": "markdown",
   "metadata": {},
   "source": [
    "LHS and RHS are different by a magnitude of 1"
   ]
  },
  {
   "cell_type": "code",
   "execution_count": 10,
   "metadata": {},
   "outputs": [
    {
     "data": {
      "text/plain": [
       "5.247838482058014e-10"
      ]
     },
     "execution_count": 10,
     "metadata": {},
     "output_type": "execute_result"
    }
   ],
   "source": [
    "npl.norm(LHS-RHS)"
   ]
  },
  {
   "cell_type": "code",
   "execution_count": 11,
   "metadata": {},
   "outputs": [
    {
     "name": "stdout",
     "output_type": "stream",
     "text": [
      "20 ms ± 1.67 ms per loop (mean ± std. dev. of 7 runs, 100 loops each)\n"
     ]
    }
   ],
   "source": [
    "%timeit npl.multi_dot([A,B,C])"
   ]
  },
  {
   "cell_type": "markdown",
   "metadata": {},
   "source": [
    "triple mult shows the slower order is used"
   ]
  },
  {
   "cell_type": "markdown",
   "metadata": {},
   "source": [
    "# 10.2 Composition of Linear Functions"
   ]
  },
  {
   "cell_type": "code",
   "execution_count": 12,
   "metadata": {},
   "outputs": [
    {
     "data": {
      "text/plain": [
       "array([[ 1., -2.,  1.,  0.,  0.],\n",
       "       [ 0.,  1., -2.,  1.,  0.],\n",
       "       [ 0.,  0.,  1., -2.,  1.]])"
      ]
     },
     "execution_count": 12,
     "metadata": {},
     "output_type": "execute_result"
    }
   ],
   "source": [
    "D = lambda n: np.block([-(np.identity(n-1)),np.vstack(np.zeros(n-1))]) + np.block([np.vstack(np.zeros(n-1)),np.identity(n-1)])\n",
    "negativediag = np.block([-(np.identity(n-1))])\n",
    "positivediag = np.block([np.vstack(np.zeros(n-1)),np.identity(n-1)])\n",
    "mergeddiag = D(5)\n",
    "# positivediag, negativediag, mergeddiag\n",
    "\n",
    "delta = np.matmul(D(4),D(5)) #second difference matrix\n",
    "delta "
   ]
  },
  {
   "cell_type": "markdown",
   "metadata": {},
   "source": [
    "# 10.3 Matrix Power"
   ]
  },
  {
   "cell_type": "code",
   "execution_count": 24,
   "metadata": {
    "scrolled": true
   },
   "outputs": [
    {
     "data": {
      "text/plain": [
       "matrix([[1, 0, 1, 1, 0],\n",
       "        [0, 1, 1, 1, 2],\n",
       "        [1, 0, 1, 2, 1],\n",
       "        [0, 1, 0, 0, 1],\n",
       "        [1, 0, 0, 0, 0]])"
      ]
     },
     "execution_count": 24,
     "metadata": {},
     "output_type": "execute_result"
    },
    {
     "data": {
      "text/plain": [
       "matrix([[18, 11, 15, 20, 20],\n",
       "        [25, 14, 21, 28, 26],\n",
       "        [24, 14, 20, 27, 26],\n",
       "        [11,  6,  9, 12, 11],\n",
       "        [ 6,  4,  5,  7,  7]])"
      ]
     },
     "execution_count": 24,
     "metadata": {},
     "output_type": "execute_result"
    },
    {
     "data": {
      "text/plain": [
       "array([18, 14, 20, 12,  7])"
      ]
     },
     "execution_count": 24,
     "metadata": {},
     "output_type": "execute_result"
    }
   ],
   "source": [
    "#finding how many cycles of len(8) there are in an adjacency matrix \n",
    "A = np.matrix([[0,1,0,0,1],[1,0,1,0,0],[0,0,1,1,1],[1,0,0,0,0],[0,0,0,1,0]])\n",
    "A**2\n",
    "A**8\n",
    "\n",
    "np.diag(A**8) # number_of_cycles "
   ]
  },
  {
   "cell_type": "code",
   "execution_count": 97,
   "metadata": {},
   "outputs": [
    {
     "data": {
      "text/plain": [
       "array([[0.     , 0.     , 0.     , ..., 0.     , 0.     , 0.     ],\n",
       "       [0.99377, 0.     , 0.     , ..., 0.     , 0.     , 0.     ],\n",
       "       [0.     , 0.99956, 0.     , ..., 0.     , 0.     , 0.     ],\n",
       "       ...,\n",
       "       [0.     , 0.     , 0.     , ..., 0.     , 0.     , 0.     ],\n",
       "       [0.     , 0.     , 0.     , ..., 0.70761, 0.     , 0.     ],\n",
       "       [0.     , 0.     , 0.     , ..., 0.     , 0.6744 , 0.     ]])"
      ]
     },
     "execution_count": 97,
     "metadata": {},
     "output_type": "execute_result"
    },
    {
     "data": {
      "text/plain": [
       "array([0.93941788, 0.9956087 , 0.99730328, 0.9980018 , 0.99840115,\n",
       "       0.99880065, 0.99890054, 0.99890054, 0.99880065, 0.99890054,\n",
       "       0.99900045, 0.99870076, 0.99870076, 0.99850101, 0.9980018 ,\n",
       "       0.99750281, 0.99630615, 0.99530993, 0.9936184 , 0.99292264,\n",
       "       0.99242594, 0.99133398, 0.99133398, 0.99123477, 0.99063966,\n",
       "       0.99083799, 0.99054051, 0.99073882, 0.99014399, 0.98994578,\n",
       "       0.98974761, 0.98915331, 0.98905429, 0.9886583 , 0.98855933,\n",
       "       0.98806459, 0.98697696, 0.98638415, 0.98549555, 0.98450906,\n",
       "       0.98391759, 0.98165326, 0.98008083, 0.97860875, 0.97596401,\n",
       "       0.97449749, 0.97059646, 0.96797122, 0.96544925, 0.96196705,\n",
       "       0.95945917, 0.95551638, 0.95168382, 0.9479604 , 0.94434507,\n",
       "       0.94140491, 0.93498438, 0.93122603, 0.92570728, 0.92021799,\n",
       "       0.91725301, 0.91061323, 0.9045648 , 0.89519779, 0.88180193,\n",
       "       0.8789486 , 0.86814639, 0.8584221 , 0.84354739, 0.83135767,\n",
       "       0.81982835, 0.80605144, 0.78859841, 0.77140706, 0.7527706 ,\n",
       "       0.73113845, 0.70457559, 0.68512019, 0.65615807, 0.63445061,\n",
       "       0.60100971, 0.56562082, 0.53013813, 0.49433269, 0.45007744,\n",
       "       0.40861535, 0.36691531, 0.32480746, 0.28483108, 0.23764632,\n",
       "       0.19116002, 0.1649426 , 0.12556687, 0.0976358 , 0.07629026,\n",
       "       0.05485904, 0.04055552, 0.03147311, 0.01946147, 0.        ])"
      ]
     },
     "execution_count": 97,
     "metadata": {},
     "output_type": "execute_result"
    },
    {
     "data": {
      "text/plain": [
       "[<matplotlib.lines.Line2D at 0x11e36bc18>]"
      ]
     },
     "execution_count": 97,
     "metadata": {},
     "output_type": "execute_result"
    },
    {
     "data": {
      "image/png": "[encoded data removed]",
      "text/plain": [
       "<Figure size 432x288 with 1 Axes>"
      ]
     },
     "metadata": {
      "needs_background": "light"
     },
     "output_type": "display_data"
    }
   ],
   "source": [
    "#how much each age bracket contributes to the population\n",
    "b = D[\"birth_rate\"]\n",
    "d = D[\"death_rate\"]\n",
    "A = np.block([[b],[np.diag(1-d[:len(d)-1]),np.vstack(np.zeros(len(d)-1))]])\n",
    "cf = np.ones(100) @ (A**10) #contribution factor\n",
    "\n",
    "A\n",
    "cf\n",
    "plt.plot(cf)\n",
    "\n",
    "#Not sure why this plot is different from Julia implementation\n",
    "#if someone figures it out please message me!!"
   ]
  },
  {
   "cell_type": "markdown",
   "metadata": {},
   "source": [
    "# 10.4 QR Factorization"
   ]
  },
  {
   "cell_type": "code",
   "execution_count": 104,
   "metadata": {},
   "outputs": [
    {
     "data": {
      "text/plain": [
       "array([[-2.91718038, -0.311155  ,  1.13989525, -1.59409524],\n",
       "       [ 0.        , -2.92363024,  1.46253047,  0.01403103],\n",
       "       [ 0.        ,  0.        ,  2.01987629,  0.50183256],\n",
       "       [ 0.        ,  0.        ,  0.        ,  1.09848251]])"
      ]
     },
     "execution_count": 104,
     "metadata": {},
     "output_type": "execute_result"
    },
    {
     "data": {
      "text/plain": [
       "array([[-0.86770674,  0.00717362,  0.23499339, -0.43461433],\n",
       "       [ 0.06824291, -0.46251738, -0.65672367, -0.47843123],\n",
       "       [ 0.00356689,  0.85975996, -0.31937626, -0.16814167],\n",
       "       [ 0.38704641, -0.05968779,  0.52617072, -0.54040775],\n",
       "       [-0.1596997 , -0.02761785, -0.36402714,  0.01365786],\n",
       "       [ 0.25904878,  0.20618835, -0.04603862, -0.51158113]])"
      ]
     },
     "execution_count": 104,
     "metadata": {},
     "output_type": "execute_result"
    }
   ],
   "source": [
    "Q,R = npl.qr(A)\n",
    "A = np.random.randn(6,4)\n",
    "Q,R = npl.qr(A)\n",
    "R\n",
    "Q"
   ]
  },
  {
   "cell_type": "code",
   "execution_count": 105,
   "metadata": {},
   "outputs": [
    {
     "data": {
      "text/plain": [
       "8.491856801826034e-16"
      ]
     },
     "execution_count": 105,
     "metadata": {},
     "output_type": "execute_result"
    }
   ],
   "source": [
    "npl.norm(np.matmul(Q,R)-A)"
   ]
  },
  {
   "cell_type": "code",
   "execution_count": 107,
   "metadata": {},
   "outputs": [
    {
     "data": {
      "text/plain": [
       "array([[ 1.00000000e+00,  1.06975258e-17, -6.36107633e-17,\n",
       "         1.06473417e-16],\n",
       "       [ 1.06975258e-17,  1.00000000e+00,  7.36256249e-17,\n",
       "        -2.06715846e-17],\n",
       "       [-6.36107633e-17,  7.36256249e-17,  1.00000000e+00,\n",
       "         6.59387923e-17],\n",
       "       [ 1.06473417e-16, -2.06715846e-17,  6.59387923e-17,\n",
       "         1.00000000e+00]])"
      ]
     },
     "execution_count": 107,
     "metadata": {},
     "output_type": "execute_result"
    }
   ],
   "source": [
    "np.matmul(Q.transpose(),Q)"
   ]
  }
 ],
 "metadata": {
  "kernelspec": {
   "display_name": "Python 3",
   "language": "python",
   "name": "python3"
  },
  "language_info": {
   "codemirror_mode": {
    "name": "ipython",
    "version": 3
   },
   "file_extension": ".py",
   "mimetype": "text/x-python",
   "name": "python",
   "nbconvert_exporter": "python",
   "pygments_lexer": "ipython3",
   "version": "3.7.3"
  }
 },
 "nbformat": 4,
 "nbformat_minor": 2
}
