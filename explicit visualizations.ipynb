{
 "cells": [
  {
   "cell_type": "code",
   "execution_count": 1,
   "metadata": {},
   "outputs": [],
   "source": [
    "import numpy as np\n",
    "import numpy.linalg as npl\n",
    "import matplotlib.pyplot as plt"
   ]
  },
  {
   "cell_type": "code",
   "execution_count": 2,
   "metadata": {},
   "outputs": [],
   "source": [
    "data = np.concatenate([[.3*np.random.randn(2) for i in range(100)],\n",
    "                     [np.array([1,1])+.3*np.random.randn(2) for i in range(100)],\n",
    "                     [np.array([1,-1])+.3*np.random.randn(2) for i in range(100)]])"
   ]
  },
  {
   "cell_type": "code",
   "execution_count": 3,
   "metadata": {},
   "outputs": [
    {
     "data": {
      "text/plain": [
       "<matplotlib.collections.PathCollection at 0x11e28b358>"
      ]
     },
     "execution_count": 3,
     "metadata": {},
     "output_type": "execute_result"
    },
    {
     "data": {
      "image/png": "[encoded data removed]",
      "text/plain": [
       "<Figure size 432x288 with 1 Axes>"
      ]
     },
     "metadata": {
      "needs_background": "light"
     },
     "output_type": "display_data"
    }
   ],
   "source": [
    "plt.scatter([data[i][0] for i in range(len(data))],[data[i][1] for i in range(len(data))])\n"
   ]
  },
  {
   "cell_type": "code",
   "execution_count": 4,
   "metadata": {},
   "outputs": [],
   "source": [
    "N = len(data) #vector count\n",
    "n = len(data[0]) #vector dimension\n",
    "k = 3 #initialized group count\n",
    "assignments = [np.random.randint(3) for i in range(N)]\n",
    "group0 = [i for i in range(N) if assignments[i] == 0] #indices of group members\n",
    "group1 = [i for i in range(N) if assignments[i] == 1]\n",
    "group2 = [i for i in range(N) if assignments[i] == 2]"
   ]
  },
  {
   "cell_type": "code",
   "execution_count": 5,
   "metadata": {
    "scrolled": true
   },
   "outputs": [
    {
     "data": {
      "text/plain": [
       "[1,\n",
       " 2,\n",
       " 0,\n",
       " 2,\n",
       " 0,\n",
       " 1,\n",
       " 1,\n",
       " 1,\n",
       " 1,\n",
       " 0,\n",
       " 2,\n",
       " 2,\n",
       " 2,\n",
       " 0,\n",
       " 0,\n",
       " 0,\n",
       " 2,\n",
       " 2,\n",
       " 2,\n",
       " 1,\n",
       " 2,\n",
       " 0,\n",
       " 1,\n",
       " 2,\n",
       " 1,\n",
       " 0,\n",
       " 0,\n",
       " 0,\n",
       " 2,\n",
       " 0,\n",
       " 1,\n",
       " 0,\n",
       " 1,\n",
       " 0,\n",
       " 1,\n",
       " 1,\n",
       " 2,\n",
       " 0,\n",
       " 0,\n",
       " 2,\n",
       " 1,\n",
       " 2,\n",
       " 1,\n",
       " 0,\n",
       " 1,\n",
       " 0,\n",
       " 2,\n",
       " 0,\n",
       " 1,\n",
       " 0,\n",
       " 0,\n",
       " 1,\n",
       " 0,\n",
       " 2,\n",
       " 1,\n",
       " 1,\n",
       " 1,\n",
       " 2,\n",
       " 1,\n",
       " 2,\n",
       " 2,\n",
       " 2,\n",
       " 0,\n",
       " 1,\n",
       " 0,\n",
       " 1,\n",
       " 2,\n",
       " 2,\n",
       " 0,\n",
       " 2,\n",
       " 1,\n",
       " 1,\n",
       " 2,\n",
       " 0,\n",
       " 1,\n",
       " 0,\n",
       " 2,\n",
       " 0,\n",
       " 2,\n",
       " 2,\n",
       " 2,\n",
       " 0,\n",
       " 0,\n",
       " 0,\n",
       " 0,\n",
       " 0,\n",
       " 2,\n",
       " 2,\n",
       " 0,\n",
       " 1,\n",
       " 1,\n",
       " 2,\n",
       " 1,\n",
       " 2,\n",
       " 1,\n",
       " 2,\n",
       " 1,\n",
       " 1,\n",
       " 1,\n",
       " 0,\n",
       " 2,\n",
       " 2,\n",
       " 2,\n",
       " 1,\n",
       " 1,\n",
       " 2,\n",
       " 0,\n",
       " 0,\n",
       " 2,\n",
       " 1,\n",
       " 2,\n",
       " 1,\n",
       " 2,\n",
       " 0,\n",
       " 0,\n",
       " 2,\n",
       " 2,\n",
       " 1,\n",
       " 0,\n",
       " 1,\n",
       " 2,\n",
       " 0,\n",
       " 0,\n",
       " 1,\n",
       " 1,\n",
       " 2,\n",
       " 2,\n",
       " 2,\n",
       " 1,\n",
       " 0,\n",
       " 0,\n",
       " 2,\n",
       " 0,\n",
       " 2,\n",
       " 1,\n",
       " 2,\n",
       " 2,\n",
       " 2,\n",
       " 1,\n",
       " 1,\n",
       " 0,\n",
       " 1,\n",
       " 0,\n",
       " 0,\n",
       " 1,\n",
       " 2,\n",
       " 0,\n",
       " 1,\n",
       " 1,\n",
       " 0,\n",
       " 0,\n",
       " 0,\n",
       " 1,\n",
       " 1,\n",
       " 0,\n",
       " 2,\n",
       " 2,\n",
       " 2,\n",
       " 1,\n",
       " 2,\n",
       " 2,\n",
       " 2,\n",
       " 1,\n",
       " 1,\n",
       " 0,\n",
       " 0,\n",
       " 2,\n",
       " 1,\n",
       " 0,\n",
       " 0,\n",
       " 0,\n",
       " 0,\n",
       " 0,\n",
       " 2,\n",
       " 1,\n",
       " 2,\n",
       " 2,\n",
       " 1,\n",
       " 0,\n",
       " 2,\n",
       " 2,\n",
       " 2,\n",
       " 2,\n",
       " 1,\n",
       " 2,\n",
       " 0,\n",
       " 2,\n",
       " 2,\n",
       " 1,\n",
       " 1,\n",
       " 0,\n",
       " 0,\n",
       " 2,\n",
       " 1,\n",
       " 1,\n",
       " 0,\n",
       " 0,\n",
       " 2,\n",
       " 1,\n",
       " 2,\n",
       " 1,\n",
       " 0,\n",
       " 0,\n",
       " 2,\n",
       " 1,\n",
       " 2,\n",
       " 1,\n",
       " 1,\n",
       " 1,\n",
       " 1,\n",
       " 2,\n",
       " 0,\n",
       " 1,\n",
       " 0,\n",
       " 2,\n",
       " 1,\n",
       " 0,\n",
       " 2,\n",
       " 0,\n",
       " 0,\n",
       " 2,\n",
       " 2,\n",
       " 1,\n",
       " 0,\n",
       " 2,\n",
       " 0,\n",
       " 0,\n",
       " 0,\n",
       " 0,\n",
       " 0,\n",
       " 2,\n",
       " 0,\n",
       " 0,\n",
       " 1,\n",
       " 1,\n",
       " 2,\n",
       " 1,\n",
       " 1,\n",
       " 1,\n",
       " 0,\n",
       " 1,\n",
       " 2,\n",
       " 2,\n",
       " 2,\n",
       " 1,\n",
       " 2,\n",
       " 1,\n",
       " 2,\n",
       " 1,\n",
       " 1,\n",
       " 0,\n",
       " 2,\n",
       " 0,\n",
       " 1,\n",
       " 1,\n",
       " 1,\n",
       " 2,\n",
       " 0,\n",
       " 2,\n",
       " 2,\n",
       " 0,\n",
       " 1,\n",
       " 0,\n",
       " 1,\n",
       " 1,\n",
       " 2,\n",
       " 2,\n",
       " 2,\n",
       " 0,\n",
       " 1,\n",
       " 1,\n",
       " 0,\n",
       " 0,\n",
       " 1,\n",
       " 2,\n",
       " 1,\n",
       " 1,\n",
       " 0,\n",
       " 2,\n",
       " 1,\n",
       " 2,\n",
       " 1,\n",
       " 2,\n",
       " 0,\n",
       " 1,\n",
       " 2,\n",
       " 1,\n",
       " 0,\n",
       " 0,\n",
       " 1,\n",
       " 1,\n",
       " 1,\n",
       " 0,\n",
       " 1,\n",
       " 0,\n",
       " 0,\n",
       " 0,\n",
       " 1,\n",
       " 2,\n",
       " 0]"
      ]
     },
     "execution_count": 5,
     "metadata": {},
     "output_type": "execute_result"
    }
   ],
   "source": [
    "assignments"
   ]
  },
  {
   "cell_type": "code",
   "execution_count": 6,
   "metadata": {},
   "outputs": [
    {
     "data": {
      "text/plain": [
       "<matplotlib.collections.PathCollection at 0x11e2e6198>"
      ]
     },
     "execution_count": 6,
     "metadata": {},
     "output_type": "execute_result"
    },
    {
     "data": {
      "image/png": "[encoded data removed]",
      "text/plain": [
       "<Figure size 432x288 with 1 Axes>"
      ]
     },
     "metadata": {
      "needs_background": "light"
     },
     "output_type": "display_data"
    }
   ],
   "source": [
    "plt.scatter([data[i][0] for i in range(N) if assignments[i] == 0],\n",
    "[data[i][1] for i in range(N) if assignments[i] == 0])\n",
    "\n",
    "plt.scatter([data[i][0] for i in range(N) if assignments[i] == 1],\n",
    "[data[i][1] for i in range(N) if assignments[i] == 1])\n",
    "\n",
    "plt.scatter([data[i][0] for i in range(N) if assignments[i] == 2],\n",
    "[data[i][1] for i in range(N) if assignments[i] == 2])\n",
    "\n",
    "# data[assignments[0]]\n",
    "# assignments[5]"
   ]
  },
  {
   "cell_type": "code",
   "execution_count": 7,
   "metadata": {},
   "outputs": [
    {
     "data": {
      "text/plain": [
       "(array([ 0.65314572, -0.04562889]),\n",
       " array([ 0.6841291 , -0.09404843]),\n",
       " array([0.60157895, 0.09895166]))"
      ]
     },
     "execution_count": 7,
     "metadata": {},
     "output_type": "execute_result"
    }
   ],
   "source": [
    "rep0 = sum(data[group0]/len(group0))\n",
    "rep1 = sum(data[group1]/len(group1))\n",
    "rep2 = sum(data[group2]/len(group2))\n",
    "rep0,rep1,rep2"
   ]
  },
  {
   "cell_type": "code",
   "execution_count": 8,
   "metadata": {},
   "outputs": [
    {
     "data": {
      "text/plain": [
       "((-2, 2), (-1, 2))"
      ]
     },
     "execution_count": 8,
     "metadata": {},
     "output_type": "execute_result"
    },
    {
     "data": {
      "image/png": "[encoded data removed]",
      "text/plain": [
       "<Figure size 432x288 with 1 Axes>"
      ]
     },
     "metadata": {
      "needs_background": "light"
     },
     "output_type": "display_data"
    }
   ],
   "source": [
    "plt.scatter(rep0[0],rep0[1])\n",
    "plt.scatter(rep1[0],rep1[1])\n",
    "plt.scatter(rep2[0],rep2[1])\n",
    "plt.ylim(-2,2), plt.xlim(-1,2)"
   ]
  },
  {
   "cell_type": "code",
   "execution_count": 9,
   "metadata": {},
   "outputs": [],
   "source": [
    "#find distance from each representative, for every vector, \n",
    "#reassign smallest distance\n",
    "distances = [[npl.norm(data[i] - rep0),\n",
    "  npl.norm(data[i] - rep1),npl.norm(data[i] - rep2)] for i in range(N)]\n",
    "updAssignments = [min((val, idx) for (idx, val) in enumerate(distances[i])) for i in range(N)]\n",
    "for i in range(N):\n",
    "    assignments[i] = updAssignments[i][1]"
   ]
  },
  {
   "cell_type": "code",
   "execution_count": 10,
   "metadata": {},
   "outputs": [
    {
     "data": {
      "text/plain": [
       "array([-1.24471639, -0.35399685])"
      ]
     },
     "execution_count": 10,
     "metadata": {},
     "output_type": "execute_result"
    }
   ],
   "source": [
    "data[0]-rep0"
   ]
  },
  {
   "cell_type": "code",
   "execution_count": 11,
   "metadata": {},
   "outputs": [
    {
     "data": {
      "text/plain": [
       "<matplotlib.collections.PathCollection at 0x11e58ff28>"
      ]
     },
     "execution_count": 11,
     "metadata": {},
     "output_type": "execute_result"
    },
    {
     "data": {
      "image/png": "[encoded data removed]",
      "text/plain": [
       "<Figure size 432x288 with 1 Axes>"
      ]
     },
     "metadata": {
      "needs_background": "light"
     },
     "output_type": "display_data"
    }
   ],
   "source": [
    "plt.scatter([data[i][0] for i in range(N) if assignments[i] == 0],\n",
    "[data[i][1] for i in range(N) if assignments[i] == 0])\n",
    "\n",
    "plt.scatter([data[i][0] for i in range(N) if assignments[i] == 1],\n",
    "[data[i][1] for i in range(N) if assignments[i] == 1])\n",
    "\n",
    "plt.scatter([data[i][0] for i in range(N) if assignments[i] == 2],\n",
    "[data[i][1] for i in range(N) if assignments[i] == 2])"
   ]
  },
  {
   "cell_type": "code",
   "execution_count": 12,
   "metadata": {},
   "outputs": [],
   "source": [
    "group0 = [i for i in range(N) if assignments[i] == 0] #indices of group members\n",
    "group1 = [i for i in range(N) if assignments[i] == 1]\n",
    "group2 = [i for i in range(N) if assignments[i] == 2]\n",
    "\n",
    "rep0 = sum(data[group0]/len(group0))\n",
    "rep1 = sum(data[group1]/len(group1))\n",
    "rep2 = sum(data[group2]/len(group2))\n",
    "\n",
    "distances = [[npl.norm(data[i] - rep0),\n",
    "  npl.norm(data[i] - rep1),npl.norm(data[i] - rep2)] for i in range(N)]\n",
    "updAssignments = [min((val, idx) for (idx, val) in enumerate(distances[i])) for i in range(N)]\n",
    "for i in range(N):\n",
    "    assignments[i] = updAssignments[i][1]"
   ]
  },
  {
   "cell_type": "code",
   "execution_count": 13,
   "metadata": {},
   "outputs": [
    {
     "data": {
      "text/plain": [
       "<matplotlib.collections.PathCollection at 0x11e5f9e80>"
      ]
     },
     "execution_count": 13,
     "metadata": {},
     "output_type": "execute_result"
    },
    {
     "data": {
      "image/png": "[encoded data removed]",
      "text/plain": [
       "<Figure size 432x288 with 1 Axes>"
      ]
     },
     "metadata": {
      "needs_background": "light"
     },
     "output_type": "display_data"
    }
   ],
   "source": [
    "plt.scatter([data[i][0] for i in range(N) if assignments[i] == 0],\n",
    "[data[i][1] for i in range(N) if assignments[i] == 0])\n",
    "\n",
    "plt.scatter([data[i][0] for i in range(N) if assignments[i] == 1],\n",
    "[data[i][1] for i in range(N) if assignments[i] == 1])\n",
    "\n",
    "plt.scatter([data[i][0] for i in range(N) if assignments[i] == 2],\n",
    "[data[i][1] for i in range(N) if assignments[i] == 2])"
   ]
  },
  {
   "cell_type": "code",
   "execution_count": 14,
   "metadata": {},
   "outputs": [
    {
     "data": {
      "text/plain": [
       "<matplotlib.collections.PathCollection at 0x11e6b6320>"
      ]
     },
     "execution_count": 14,
     "metadata": {},
     "output_type": "execute_result"
    },
    {
     "data": {
      "image/png": "[encoded data removed]",
      "text/plain": [
       "<Figure size 432x288 with 1 Axes>"
      ]
     },
     "metadata": {
      "needs_background": "light"
     },
     "output_type": "display_data"
    }
   ],
   "source": [
    "group0 = [i for i in range(N) if assignments[i] == 0] #indices of group members\n",
    "group1 = [i for i in range(N) if assignments[i] == 1]\n",
    "group2 = [i for i in range(N) if assignments[i] == 2]\n",
    "\n",
    "rep0 = sum(data[group0]/len(group0))\n",
    "rep1 = sum(data[group1]/len(group1))\n",
    "rep2 = sum(data[group2]/len(group2))\n",
    "\n",
    "distances = [[npl.norm(data[i] - rep0),\n",
    "  npl.norm(data[i] - rep1),npl.norm(data[i] - rep2)] for i in range(N)]\n",
    "\n",
    "updAssignments = [min((val, idx) for (idx, val) in enumerate(distances[i])) for i in range(N)]\n",
    "for i in range(N):\n",
    "    assignments[i] = updAssignments[i][1]\n",
    "\n",
    "plt.scatter([data[i][0] for i in range(N) if assignments[i] == 0],\n",
    "[data[i][1] for i in range(N) if assignments[i] == 0])\n",
    "\n",
    "plt.scatter([data[i][0] for i in range(N) if assignments[i] == 1],\n",
    "[data[i][1] for i in range(N) if assignments[i] == 1])\n",
    "\n",
    "plt.scatter([data[i][0] for i in range(N) if assignments[i] == 2],\n",
    "[data[i][1] for i in range(N) if assignments[i] == 2])"
   ]
  },
  {
   "cell_type": "code",
   "execution_count": 15,
   "metadata": {},
   "outputs": [
    {
     "data": {
      "text/plain": [
       "<matplotlib.collections.PathCollection at 0x11e831160>"
      ]
     },
     "execution_count": 15,
     "metadata": {},
     "output_type": "execute_result"
    },
    {
     "data": {
      "image/png": "[encoded data removed]",
      "text/plain": [
       "<Figure size 432x288 with 1 Axes>"
      ]
     },
     "metadata": {
      "needs_background": "light"
     },
     "output_type": "display_data"
    }
   ],
   "source": [
    "group0 = [i for i in range(N) if assignments[i] == 0] #indices of group members\n",
    "group1 = [i for i in range(N) if assignments[i] == 1]\n",
    "group2 = [i for i in range(N) if assignments[i] == 2]\n",
    "\n",
    "rep0 = sum(data[group0]/len(group0))\n",
    "rep1 = sum(data[group1]/len(group1))\n",
    "rep2 = sum(data[group2]/len(group2))\n",
    "\n",
    "distances = [[npl.norm(data[i] - rep0),\n",
    "  npl.norm(data[i] - rep1),npl.norm(data[i] - rep2)] for i in range(N)]\n",
    "\n",
    "updAssignments = [min((val, idx) for (idx, val) in enumerate(distances[i])) for i in range(N)]\n",
    "for i in range(N):\n",
    "    assignments[i] = updAssignments[i][1]\n",
    "\n",
    "plt.scatter([data[i][0] for i in range(N) if assignments[i] == 0],\n",
    "[data[i][1] for i in range(N) if assignments[i] == 0])\n",
    "\n",
    "plt.scatter([data[i][0] for i in range(N) if assignments[i] == 1],\n",
    "[data[i][1] for i in range(N) if assignments[i] == 1])\n",
    "\n",
    "plt.scatter([data[i][0] for i in range(N) if assignments[i] == 2],\n",
    "[data[i][1] for i in range(N) if assignments[i] == 2])"
   ]
  },
  {
   "cell_type": "markdown",
   "metadata": {},
   "source": [
    "Interactive visualization: https://editor.p5js.org/bartle/sketches/sH4DiPmda"
   ]
  }
 ],
 "metadata": {
  "kernelspec": {
   "display_name": "Python 3",
   "language": "python",
   "name": "python3"
  },
  "language_info": {
   "codemirror_mode": {
    "name": "ipython",
    "version": 3
   },
   "file_extension": ".py",
   "mimetype": "text/x-python",
   "name": "python",
   "nbconvert_exporter": "python",
   "pygments_lexer": "ipython3",
   "version": "3.7.4"
  }
 },
 "nbformat": 4,
 "nbformat_minor": 2
}
